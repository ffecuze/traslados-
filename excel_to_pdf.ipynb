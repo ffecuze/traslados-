{
 "cells": [
  {
   "cell_type": "code",
   "execution_count": 3,
   "metadata": {},
   "outputs": [],
   "source": [
    "import openpyxl as opp\n",
    "import pandas as pd\n",
    "import numpy as np\n",
    "import win32com.client\n",
    "import fitz\n",
    "import os\n",
    "import datetime as dt\n",
    "from PIL import Image\n",
    " \n",
    "informacion = {\n",
    "    'transportista': ['ERICK MONTENEGRO', 'PDD3279'],\n",
    "    'fecha': dt.datetime.today().strftime('%Y-%m-%d'),\n",
    "    'SM': ['AZAMA', 'JOSE LUNA'],\n",
    "    'MN': ['MANUELA','CAMILO GUZMAN'],\n",
    "    'MB': ['MARIA BONITA', 'ORLANDO FARINANGO'],\n",
    "    'CW': ['FLORES DE LA MONTAÑA','EDWIN COBOS'],\n",
    "    'FS': ['SANTA MONICA','JAIME CARDENAS'],\n",
    "    'Flopack': ['Flopack',\"Nelson Panchana\"],\n",
    "    'Denmar': ['DENMAR',\"JAVIER CUZCO\"]\n",
    "}\n",
    " \n",
    "nombre_archivo = os.path.abspath(\"C:\\\\Excel_to_PDF\\\\FormatoTraslados.xlsx\")\n",
    "path = os.path.split(nombre_archivo)\n",
    " \n",
    "df = pd.read_excel(\"TransporteInterno2024.xlsx\", sheet_name='DATOS')\n",
    "f_df = df[np.logical_and(df['FECHA'] == informacion['fecha'], df['Preguntar en:'] == 'Bodega')]\n",
    " \n",
    "# Crear mapeo dinámico de aprobadores por área solicitante\n",
    "aprobadores_por_area = f_df[['Area solicitante', 'Aprobador']].drop_duplicates().set_index('Area solicitante')['Aprobador'].to_dict()\n",
    " \n",
    "informacion['up-origen'] = f_df['UP-ORIGEN'].unique()\n",
    "informacion['up-destino'] = f_df['UP-DESTINO'].unique()"
   ]
  },
  {
   "cell_type": "code",
   "execution_count": 4,
   "metadata": {},
   "outputs": [
    {
     "data": {
      "text/plain": [
       "Index(['FECHA', 'FECHA RUTA', 'FINCA ORIGEN', 'FINCA DESTINO', 'CODIGO',\n",
       "       'DESCRIPCION', 'UNIDAD', 'CANTIDAD ', 'Viaje', 'Ruta', 'Preguntar en:',\n",
       "       'V. Flete', 'Motivo trasaldo', 'Area solicitante', 'UP-ORIGEN',\n",
       "       'UP-DESTINO', 'DIAS COBERTURA', 'Transporte', 'SEM', 'Dia', 'Mes',\n",
       "       'Columna1', 'Columna2', 'Columna3', 'Aprobador'],\n",
       "      dtype='object')"
      ]
     },
     "execution_count": 4,
     "metadata": {},
     "output_type": "execute_result"
    }
   ],
   "source": [
    "# Muestra los nombres de las columnas que se están leyendo de la tabla de datos del archivo Excel\n",
    "f_df.columns"
   ]
  },
  {
   "cell_type": "code",
   "execution_count": 5,
   "metadata": {},
   "outputs": [],
   "source": [
    "for up_origen in informacion['up-origen']:\n",
    "    for up_destino in informacion['up-destino']:\n",
    "        if up_origen == up_destino:\n",
    "            continue\n",
    " \n",
    "        df2 = f_df[np.logical_and(f_df['UP-ORIGEN'] == up_origen, f_df['UP-DESTINO'] == up_destino)]\n",
    "        if len(df2) == 0:\n",
    "            continue\n",
    "        elif len(df2) > 13:\n",
    "            print(\"Error: revisar la cantidad de artículos que van a ser trasladados y notificar si hay cambio de formato\")\n",
    "            break\n",
    " \n",
    "        wb = opp.load_workbook(filename=nombre_archivo)\n",
    "        sheet = wb['Traslado']\n",
    "        for row in sheet['C11':'H23']:\n",
    "            for cell in row:\n",
    "                cell.value = \"\"\n",
    " \n",
    "        transportista = informacion['transportista'][0]\n",
    "        placa = informacion['transportista'][1]\n",
    "        f_envia = informacion[up_origen][0]\n",
    "        jefe_almacen_envia = informacion[up_origen][1]\n",
    "        f_solicita = informacion[up_destino][0]\n",
    "        jefe_almacen_solicita = informacion[up_destino][1]\n",
    " \n",
    "        # Obtener área y aprobador dinámicamente del Excel\n",
    "        area_solicitante = df2['Area solicitante'].iloc[0]\n",
    "        aprobador = aprobadores_por_area.get(area_solicitante, \"NO DEFINIDO\")\n",
    " \n",
    "        sheet['G4'] = transportista\n",
    "        sheet['G6'] = placa\n",
    "        sheet['G8'] = aprobador\n",
    "        sheet['G2'] = f_envia\n",
    "        sheet['D2'] = f_solicita\n",
    "        sheet['D4'] = jefe_almacen_solicita\n",
    "        sheet['D6'] = area_solicitante\n",
    "        sheet['C35'] = f\"NOMBRE: {jefe_almacen_envia}\"\n",
    " \n",
    "        celda_inicio = 11\n",
    "        for i in range(len(df2)):\n",
    "            sheet[f'C{celda_inicio}'] = df2.iloc[i, 1]\n",
    "            sheet[f'D{celda_inicio}'] = df2.iloc[i, 4]\n",
    "            sheet[f'E{celda_inicio}'] = df2.iloc[i, 5]\n",
    "            sheet[f'F{celda_inicio}'] = df2.iloc[i, 7]\n",
    "            sheet[f'G{celda_inicio}'] = df2.iloc[i, 6]\n",
    "            sheet[f'H{celda_inicio}'] = df2.iloc[i, 12]\n",
    "            celda_inicio += 1\n",
    " \n",
    "        wb.save(filename=nombre_archivo)\n",
    "        wb.close()\n",
    " \n",
    "        excel = win32com.client.Dispatch(\"Excel.Application\")\n",
    "        excel.Visible = True\n",
    "        sheets = excel.Workbooks.Open(nombre_archivo)\n",
    "        name_pdf = f\"TRASLADO_{up_origen}-{up_destino}.pdf\"\n",
    "        sheets.ExportAsFixedFormat(0, os.path.join(path[0], name_pdf))\n",
    "        sheets.Close()\n",
    "        excel.Quit()\n",
    " \n",
    "        doc = fitz.open(os.path.join(path[0], name_pdf))\n",
    "        page = doc[0]\n",
    "        rect = fitz.Rect(40, 320, 300, 400)\n",
    "        page.insert_image(rect, filename=\"SUMILLA-removebg-preview.png\")\n",
    "        name2 = f\"TRASLADO {up_origen}-{up_destino}-signed.pdf\"\n",
    "        doc.save(filename=os.path.join(path[0], name2))"
   ]
  }
 ],
 "metadata": {
  "kernelspec": {
   "display_name": "Python 3",
   "language": "python",
   "name": "python3"
  },
  "language_info": {
   "codemirror_mode": {
    "name": "ipython",
    "version": 3
   },
   "file_extension": ".py",
   "mimetype": "text/x-python",
   "name": "python",
   "nbconvert_exporter": "python",
   "pygments_lexer": "ipython3",
   "version": "3.12.10"
  }
 },
 "nbformat": 4,
 "nbformat_minor": 2
}
